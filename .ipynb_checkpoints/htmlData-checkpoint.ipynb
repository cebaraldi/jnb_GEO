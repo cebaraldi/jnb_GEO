{
 "cells": [
  {
   "cell_type": "code",
   "execution_count": null,
   "id": "90b8c299-e737-40ed-8101-e22221af1873",
   "metadata": {},
   "outputs": [],
   "source": [
    "%reset -sf"
   ]
  },
  {
   "cell_type": "code",
   "execution_count": null,
   "id": "f13764e4-431f-4a8e-93f3-c567d5054c10",
   "metadata": {},
   "outputs": [],
   "source": [
    "import pandas as pd\n",
    "web = 'https://www-genesis.destatis.de/genesis/online?operation=previous&levelindex=1&step=1&titel=Ergebnis&levelid=1677495370799&acceptscookies=false#abreadcrumb'\n",
    "data = pd.read_html(web)\n",
    "print(type(data)) # expected to be a list\n",
    "print(\"some text only?\")"
   ]
  },
  {
   "cell_type": "code",
   "execution_count": null,
   "id": "7a419c0e-484a-4c64-8608-c8a82e762783",
   "metadata": {},
   "outputs": [],
   "source": [
    "for d in data:\n",
    "    print(type(d)) # d should be a pandas data frame\n",
    "    pass"
   ]
  },
  {
   "cell_type": "code",
   "execution_count": null,
   "id": "9a930b27-09cd-4dc1-a591-6795a2352b9b",
   "metadata": {},
   "outputs": [],
   "source": []
  }
 ],
 "metadata": {
  "kernelspec": {
   "display_name": "Python 3 (ipykernel)",
   "language": "python",
   "name": "python3"
  },
  "language_info": {
   "codemirror_mode": {
    "name": "ipython",
    "version": 3
   },
   "file_extension": ".py",
   "mimetype": "text/x-python",
   "name": "python",
   "nbconvert_exporter": "python",
   "pygments_lexer": "ipython3",
   "version": "3.9.16"
  }
 },
 "nbformat": 4,
 "nbformat_minor": 5
}
