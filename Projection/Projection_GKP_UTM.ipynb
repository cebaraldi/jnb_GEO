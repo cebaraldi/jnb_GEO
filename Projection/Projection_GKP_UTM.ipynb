{
 "cells": [
  {
   "cell_type": "markdown",
   "id": "1406cfc6-0fd2-46e7-9847-06610534dbb0",
   "metadata": {},
   "source": [
    "# PROCEDURE AND FORMULAS FOR COORDINATE TRANSFORMATIONS  BETWEEN THE GAUSS-KRÜGER PROJECTIONS AND THE UNIVERSAL TRANSVERSE MERCATOR PROJECTIONS FOR SERBIA\n",
    "\n",
    "# TRANSFORMACIJA KOORDINATA IZMEĐU GAUS-KRIGEROVE I SVETSKE POPREČNE MERKATOROVE PROJEKCIJE ZA TERITORIJU SRBIJE\n",
    "\n",
    "## Potpukovnik mr Stevan Radojčić, dipl. inž. \n",
    "Uprava za operativne poslove J-3 GŠ"
   ]
  },
  {
   "cell_type": "markdown",
   "id": "d7b1e223-54d7-437a-8b55-ffebf675c488",
   "metadata": {},
   "source": [
    "### 1. Step (y,x)GK &xrarr; (B, L)Bes"
   ]
  },
  {
   "cell_type": "code",
   "execution_count": 83,
   "id": "a1558250-d2bb-46d0-a91d-e6758f93e13b",
   "metadata": {},
   "outputs": [
    {
     "name": "stdout",
     "output_type": "stream",
     "text": [
      "6598142.48 4935589.07\n",
      "xy = (-1564567.3867386736, 6598802.360236024)\n",
      "e = (0.08169683039650567, 0.08197084031768928)\n",
      "mu1 = -0.2457406405017647\n",
      "e1 = 0.9933477536014025\n",
      "B1 = -3.70374277644036\n",
      "V1 = 6383452.059948843\n",
      "M1 = 6340846.525638433\n",
      "T1, C1, D = (0.39683554761440687, 0.0047782089367887845, 1.0337357120042203)\n",
      "B = -3.440027180164268\n",
      "L = 16.930816877539748\n"
     ]
    }
   ],
   "source": [
    "from pandas import read_csv\n",
    "from math import sqrt, pow, sin, cos, tan\n",
    "\n",
    "a = 6377397.155 #(velika poluosa Beselovog elipsoida)\n",
    "b = 6356078.96325 #(mala poluosa Beselovog elipsoida)\n",
    "m0 = 0.9999 #(linijski razmer duž srednjeg meridijana zone GKP)\n",
    "\n",
    "y0 = 6500000 #i L0 = 18° za tačke u 6. zoni GKP\n",
    "L0 = 18\n",
    "# y0 = 7500000 #i L0 = 21° za tačke u 7. zoni GKP\n",
    "\n",
    "\n",
    "gkp = read_csv(\"GeoMaks2022-coords.csv\")\n",
    "#print(gkp)\n",
    "\n",
    "# Loznica: (lat, lon, height) = (44.558, 19.23, 116)\n",
    "h = 116 # visina (height above sea level)\n",
    "\n",
    "def eq1(x, y):\n",
    "    return (y-y0)/m0, x/m0\n",
    "\n",
    "e = (sqrt(1-b*b/a/a), sqrt(a*a/b/b-1)) # eq 2\n",
    "\n",
    "def eq3(x1, a , e):\n",
    "    return x1/(a*(1-e*e/4-3*pow(e,4)/64-4*pow(e,6)/256))\n",
    "\n",
    "e1 = (1-(1-sqrt(1-e[0]*e[0])))/(1-(1-sqrt(1+e[0]*e[0]))) # eq 4\n",
    "\n",
    "def eq5(m, e):\n",
    "    B = m + (3*e/2-27*pow(e,3)/32)*sin(2*m) \\\n",
    "    + (21*e*e/16-55*pow(e,4)/32)*sin(4*m) \\\n",
    "    + 151*pow(e,3)/96*sin(6*m) \\\n",
    "    + 1097*pow(e,4)/512*sin(8*m)\n",
    "    return B\n",
    "\n",
    "def eq6(a, e, B):\n",
    "    return a/sqrt(1-e*e*pow(sin(B),2))\n",
    "\n",
    "def eq7(a, e, B):\n",
    "    return a*(1-e*e)/sqrt(1-e*e*pow(sin(B),2))\n",
    "\n",
    "def eq8(B, e, y, V):\n",
    "    T = pow(tan(B),2)\n",
    "    C = e*e*pow(cos(B),2)\n",
    "    D = y/V\n",
    "    return T, C, D\n",
    "\n",
    "def eq9(B, V, M, D, T, C, e):\n",
    "    B = B - V*tan(B)/M*( \\\n",
    "                        pow(D,2)/2 \\\n",
    "                        - pow(D,4)*(5+3*T+10*C-4*C*C-9*e*e)/24 \\\n",
    "                        + pow(D,6)*(61+90*T+298*C+45*T*T-252*e*e-3*C*C)/720 \\\n",
    "                       )          \n",
    "    return B\n",
    "\n",
    "def eq10(L, B, D, T, C, e):\n",
    "    L = L + 1/cos(B)*(D \\\n",
    "                      - pow(D,3)*(1+2*T+C)/6 \\\n",
    "                      + pow(D,5)*(5-2*C+28*T-3*C*C+8*e+24*T*T)/120 \\\n",
    "                     )\n",
    "    return L\n",
    "\n",
    "x = gkp['GKE'][0]\n",
    "y = gkp['GKN'][0]\n",
    "#print(gkp)\n",
    "print(x, y)\n",
    "\n",
    "# eq 1\n",
    "xy = eq1(x, y)\n",
    "#print(xy)type(\n",
    "#print(len(xy[0]))\n",
    "#print(xy[0][1])\n",
    "print(f'xy = {xy}')\n",
    "\n",
    "# eq 2\n",
    "#print(e[0])\n",
    "print(f'e = {e}')\n",
    "\n",
    "# eq 3\n",
    "mu1 = eq3(xy[0], a, e[0])\n",
    "print(f'mu1 = {mu1}')\n",
    "\n",
    "# eq 4\n",
    "print(f'e1 = {e1}')\n",
    "\n",
    "# eq 5\n",
    "B1 = eq5(mu1, e1)\n",
    "print(f'B1 = {B1}')\n",
    "\n",
    "# eq 6\n",
    "V1 = eq6(a, e[0], B1)\n",
    "print(f'V1 = {V1}')\n",
    "\n",
    "# eq 7\n",
    "M1 = eq7(a, e[0], B1)\n",
    "print(f'M1 = {M1}')\n",
    "\n",
    "# eq 8\n",
    "(T1, C1, D) = eq8(B1, e[0], xy[1], V1)\n",
    "print(f'T1, C1, D = {T1, C1, D}')\n",
    "\n",
    "# eq 9\n",
    "B = eq9(B1, V1, M1, D, T1, C1, e[1])\n",
    "print(f'B = {B}')\n",
    "\n",
    "# eq 10\n",
    "L = eq10(L0, B1, D, T1, C1, e[1])\n",
    "print(f'L = {L}')"
   ]
  },
  {
   "cell_type": "markdown",
   "id": "af88712a-0253-4116-bbb6-976b300f9c4f",
   "metadata": {},
   "source": [
    "### 2. Step (B, L)Bes &xrarr; (X, Y, Z)Bes"
   ]
  },
  {
   "cell_type": "code",
   "execution_count": 89,
   "id": "b210803b-016d-419c-b849-4db19e53cee5",
   "metadata": {},
   "outputs": [
    {
     "name": "stdout",
     "output_type": "stream",
     "text": [
      "V = 6375558.067405485\n",
      "X, Y, Z = (2077788.7974652983, 5728688.936874542, 1862091.47839199)\n"
     ]
    }
   ],
   "source": [
    "# eq 11\n",
    "V = a/sqrt(1+e[0]*e[0]*pow(sin(B),2))\n",
    "print(f'V = {V}')\n",
    "\n",
    "# eq 12\n",
    "X = (V+h)*cos(B)*cos(L)\n",
    "Y = (V+h)*cos(B)*sin(L)\n",
    "Z = (V*(1-e[0]*e[0])+h)*sin(B)\n",
    "print(f'X, Y, Z = {X, Y, Z}')"
   ]
  },
  {
   "cell_type": "markdown",
   "id": "3d2676e3-2629-46ac-bcb5-60065c40b2bf",
   "metadata": {},
   "source": [
    "### 3. Step (X, Y, Z)Bes &xrarr; (X, Y, Z)WGS84 "
   ]
  },
  {
   "cell_type": "code",
   "execution_count": null,
   "id": "84f3d4db-e024-4bed-b619-775c170ee7b6",
   "metadata": {},
   "outputs": [],
   "source": [
    "# Date dependent rotation?"
   ]
  },
  {
   "cell_type": "markdown",
   "id": "c2a7226f-d082-4771-87e0-822d37d21ea7",
   "metadata": {},
   "source": [
    "### 4. Step (X, Y, Z)WGS84 &xrarr; (B, L)WGS84 "
   ]
  },
  {
   "cell_type": "code",
   "execution_count": null,
   "id": "56e74983-0c7c-4d1f-8b91-7ad5dc83841a",
   "metadata": {},
   "outputs": [],
   "source": []
  },
  {
   "cell_type": "markdown",
   "id": "94ce5427-5be1-494d-bbc3-c8709b4a904b",
   "metadata": {},
   "source": [
    "### 5. Step (B, L)WGS84 &xrarr; (E, N)UTM"
   ]
  },
  {
   "cell_type": "code",
   "execution_count": null,
   "id": "2a15dba7-eb51-49db-8342-c3c156ad287d",
   "metadata": {},
   "outputs": [],
   "source": []
  }
 ],
 "metadata": {
  "kernelspec": {
   "display_name": "Python 3 (ipykernel)",
   "language": "python",
   "name": "python3"
  },
  "language_info": {
   "codemirror_mode": {
    "name": "ipython",
    "version": 3
   },
   "file_extension": ".py",
   "mimetype": "text/x-python",
   "name": "python",
   "nbconvert_exporter": "python",
   "pygments_lexer": "ipython3",
   "version": "3.9.16"
  }
 },
 "nbformat": 4,
 "nbformat_minor": 5
}
