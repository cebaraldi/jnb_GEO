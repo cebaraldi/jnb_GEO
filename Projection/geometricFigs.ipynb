{
 "cells": [
  {
   "cell_type": "markdown",
   "id": "c3a77d0d-aec0-40a7-8d43-eb405d473f3e",
   "metadata": {},
   "source": [
    "# Geometric Figures"
   ]
  },
  {
   "cell_type": "code",
   "execution_count": 89,
   "id": "7985c606-45ff-4418-ab9e-c9f3611f9851",
   "metadata": {},
   "outputs": [],
   "source": [
    "%reset -sf\n",
    "import pandas as pd\n",
    "import geopandas as gpd"
   ]
  },
  {
   "cell_type": "markdown",
   "id": "b8a1bc07-6711-4d54-ab85-00893524a748",
   "metadata": {},
   "source": [
    "## Two Triangles"
   ]
  },
  {
   "cell_type": "code",
   "execution_count": 90,
   "id": "15f51da4-1f7c-495b-9b57-5e8cc2470fb1",
   "metadata": {},
   "outputs": [
    {
     "data": {
      "text/html": [
       "<div>\n",
       "<style scoped>\n",
       "    .dataframe tbody tr th:only-of-type {\n",
       "        vertical-align: middle;\n",
       "    }\n",
       "\n",
       "    .dataframe tbody tr th {\n",
       "        vertical-align: top;\n",
       "    }\n",
       "\n",
       "    .dataframe thead th {\n",
       "        text-align: right;\n",
       "    }\n",
       "</style>\n",
       "<table border=\"1\" class=\"dataframe\">\n",
       "  <thead>\n",
       "    <tr style=\"text-align: right;\">\n",
       "      <th></th>\n",
       "      <th>x</th>\n",
       "      <th>y</th>\n",
       "      <th>label</th>\n",
       "      <th>geometry</th>\n",
       "    </tr>\n",
       "  </thead>\n",
       "  <tbody>\n",
       "    <tr>\n",
       "      <th>0</th>\n",
       "      <td>0.0</td>\n",
       "      <td>0.0</td>\n",
       "      <td>a</td>\n",
       "      <td>POINT (0.00000 0.00000)</td>\n",
       "    </tr>\n",
       "    <tr>\n",
       "      <th>1</th>\n",
       "      <td>1.0</td>\n",
       "      <td>0.0</td>\n",
       "      <td>a</td>\n",
       "      <td>POINT (1.00000 0.00000)</td>\n",
       "    </tr>\n",
       "    <tr>\n",
       "      <th>2</th>\n",
       "      <td>0.1</td>\n",
       "      <td>0.1</td>\n",
       "      <td>a</td>\n",
       "      <td>POINT (0.10000 0.10000)</td>\n",
       "    </tr>\n",
       "    <tr>\n",
       "      <th>3</th>\n",
       "      <td>0.5</td>\n",
       "      <td>0.5</td>\n",
       "      <td>a</td>\n",
       "      <td>POINT (0.50000 0.50000)</td>\n",
       "    </tr>\n",
       "    <tr>\n",
       "      <th>4</th>\n",
       "      <td>0.0</td>\n",
       "      <td>1.0</td>\n",
       "      <td>a</td>\n",
       "      <td>POINT (0.00000 1.00000)</td>\n",
       "    </tr>\n",
       "    <tr>\n",
       "      <th>5</th>\n",
       "      <td>0.0</td>\n",
       "      <td>0.0</td>\n",
       "      <td>b</td>\n",
       "      <td>POINT (0.00000 0.00000)</td>\n",
       "    </tr>\n",
       "    <tr>\n",
       "      <th>6</th>\n",
       "      <td>-1.0</td>\n",
       "      <td>0.0</td>\n",
       "      <td>b</td>\n",
       "      <td>POINT (-1.00000 0.00000)</td>\n",
       "    </tr>\n",
       "    <tr>\n",
       "      <th>7</th>\n",
       "      <td>0.0</td>\n",
       "      <td>-2.0</td>\n",
       "      <td>b</td>\n",
       "      <td>POINT (0.00000 -2.00000)</td>\n",
       "    </tr>\n",
       "  </tbody>\n",
       "</table>\n",
       "</div>"
      ],
      "text/plain": [
       "     x    y label                  geometry\n",
       "0  0.0  0.0     a   POINT (0.00000 0.00000)\n",
       "1  1.0  0.0     a   POINT (1.00000 0.00000)\n",
       "2  0.1  0.1     a   POINT (0.10000 0.10000)\n",
       "3  0.5  0.5     a   POINT (0.50000 0.50000)\n",
       "4  0.0  1.0     a   POINT (0.00000 1.00000)\n",
       "5  0.0  0.0     b   POINT (0.00000 0.00000)\n",
       "6 -1.0  0.0     b  POINT (-1.00000 0.00000)\n",
       "7  0.0 -2.0     b  POINT (0.00000 -2.00000)"
      ]
     },
     "execution_count": 90,
     "metadata": {},
     "output_type": "execute_result"
    },
    {
     "data": {
      "image/png": "[encoded data removed]",
      "text/plain": [
       "<Figure size 200x200 with 1 Axes>"
      ]
     },
     "metadata": {},
     "output_type": "display_data"
    }
   ],
   "source": [
    "tt = pd.DataFrame(\n",
    "    {\n",
    "        \"x\": [0, 1, 0.1, 0.5, 0, 0, -1, 0],\n",
    "        \"y\": [0, 0, 0.1, 0.5, 1, 0, 0, -2],\n",
    "        \"label\": ['a', 'a', 'a', 'a', 'a', 'b', 'b', 'b'],\n",
    "    }\n",
    ")\n",
    "gdf = gpd.GeoDataFrame(\n",
    "    tt,\n",
    "    geometry=gpd.points_from_xy(tt[\"x\"], tt[\"y\"]),\n",
    ")\n",
    "gdf.plot(figsize = (2,2))\n",
    "gdf"
   ]
  },
  {
   "cell_type": "code",
   "execution_count": 91,
   "id": "e802aea0-5d5c-4f4b-b248-c7683386e731",
   "metadata": {},
   "outputs": [
    {
     "data": {
      "text/plain": [
       "label\n",
       "a    0.5\n",
       "b    1.0\n",
       "dtype: float64"
      ]
     },
     "execution_count": 91,
     "metadata": {},
     "output_type": "execute_result"
    },
    {
     "data": {
      "image/png": "[encoded data removed]",
      "text/plain": [
       "<Figure size 640x480 with 1 Axes>"
      ]
     },
     "metadata": {},
     "output_type": "display_data"
    }
   ],
   "source": [
    "res = gdf.dissolve(\"label\").convex_hull\n",
    "res.to_wkt()\n",
    "res.plot()\n",
    "res.area"
   ]
  },
  {
   "cell_type": "markdown",
   "id": "7e6253fa-5681-4df1-a30b-5a76fc72695e",
   "metadata": {},
   "source": [
    "# One Rectangle"
   ]
  },
  {
   "cell_type": "code",
   "execution_count": 92,
   "id": "a107bacc-d2ea-4da4-935b-ddfb08a02c2e",
   "metadata": {},
   "outputs": [
    {
     "data": {
      "text/html": [
       "<div>\n",
       "<style scoped>\n",
       "    .dataframe tbody tr th:only-of-type {\n",
       "        vertical-align: middle;\n",
       "    }\n",
       "\n",
       "    .dataframe tbody tr th {\n",
       "        vertical-align: top;\n",
       "    }\n",
       "\n",
       "    .dataframe thead th {\n",
       "        text-align: right;\n",
       "    }\n",
       "</style>\n",
       "<table border=\"1\" class=\"dataframe\">\n",
       "  <thead>\n",
       "    <tr style=\"text-align: right;\">\n",
       "      <th></th>\n",
       "      <th>x</th>\n",
       "      <th>y</th>\n",
       "      <th>label</th>\n",
       "      <th>geometry</th>\n",
       "    </tr>\n",
       "  </thead>\n",
       "  <tbody>\n",
       "    <tr>\n",
       "      <th>0</th>\n",
       "      <td>0.0</td>\n",
       "      <td>0.0</td>\n",
       "      <td>c</td>\n",
       "      <td>POINT (0.00000 0.00000)</td>\n",
       "    </tr>\n",
       "    <tr>\n",
       "      <th>1</th>\n",
       "      <td>0.0</td>\n",
       "      <td>0.5</td>\n",
       "      <td>c</td>\n",
       "      <td>POINT (0.00000 0.50000)</td>\n",
       "    </tr>\n",
       "    <tr>\n",
       "      <th>2</th>\n",
       "      <td>0.5</td>\n",
       "      <td>0.0</td>\n",
       "      <td>c</td>\n",
       "      <td>POINT (0.50000 0.00000)</td>\n",
       "    </tr>\n",
       "    <tr>\n",
       "      <th>3</th>\n",
       "      <td>0.5</td>\n",
       "      <td>0.5</td>\n",
       "      <td>c</td>\n",
       "      <td>POINT (0.50000 0.50000)</td>\n",
       "    </tr>\n",
       "  </tbody>\n",
       "</table>\n",
       "</div>"
      ],
      "text/plain": [
       "     x    y label                 geometry\n",
       "0  0.0  0.0     c  POINT (0.00000 0.00000)\n",
       "1  0.0  0.5     c  POINT (0.00000 0.50000)\n",
       "2  0.5  0.0     c  POINT (0.50000 0.00000)\n",
       "3  0.5  0.5     c  POINT (0.50000 0.50000)"
      ]
     },
     "execution_count": 92,
     "metadata": {},
     "output_type": "execute_result"
    },
    {
     "data": {
      "image/png": "[encoded data removed]",
      "text/plain": [
       "<Figure size 200x200 with 1 Axes>"
      ]
     },
     "metadata": {},
     "output_type": "display_data"
    }
   ],
   "source": [
    "ra = pd.DataFrame(\n",
    "    {\n",
    "        \"x\": [0, 0, 0.5, 0.5],\n",
    "        \"y\": [0, 0.5, 0, 0.5],\n",
    "        \"label\": ['c', 'c', 'c', 'c'],\n",
    "    }\n",
    ")\n",
    "gdf = gpd.GeoDataFrame(\n",
    "    ra,\n",
    "    geometry=gpd.points_from_xy(ra[\"x\"], ra[\"y\"]),\n",
    ")\n",
    "gdf.plot(figsize = (2,2))\n",
    "gdf"
   ]
  },
  {
   "cell_type": "code",
   "execution_count": 95,
   "id": "52762921-9224-4ea4-8f61-024497ef6a79",
   "metadata": {},
   "outputs": [
    {
     "data": {
      "text/plain": [
       "label\n",
       "c    0.25\n",
       "dtype: float64"
      ]
     },
     "execution_count": 95,
     "metadata": {},
     "output_type": "execute_result"
    },
    {
     "data": {
      "image/png": "[encoded data removed]",
      "text/plain": [
       "<Figure size 640x480 with 1 Axes>"
      ]
     },
     "metadata": {},
     "output_type": "display_data"
    }
   ],
   "source": [
    "res = gdf.dissolve(\"label\").convex_hull\n",
    "res.to_wkt()\n",
    "res.plot()\n",
    "res.area"
   ]
  },
  {
   "cell_type": "code",
   "execution_count": 94,
   "id": "a6029f6c-5168-4fe9-9160-97b1662eace2",
   "metadata": {},
   "outputs": [
    {
     "data": {
      "text/plain": [
       "geopandas.geodataframe.GeoDataFrame"
      ]
     },
     "execution_count": 94,
     "metadata": {},
     "output_type": "execute_result"
    }
   ],
   "source": [
    "type(gdf)"
   ]
  }
 ],
 "metadata": {
  "kernelspec": {
   "display_name": "Python 3 (ipykernel)",
   "language": "python",
   "name": "python3"
  },
  "language_info": {
   "codemirror_mode": {
    "name": "ipython",
    "version": 3
   },
   "file_extension": ".py",
   "mimetype": "text/x-python",
   "name": "python",
   "nbconvert_exporter": "python",
   "pygments_lexer": "ipython3",
   "version": "3.9.16"
  }
 },
 "nbformat": 4,
 "nbformat_minor": 5
}
