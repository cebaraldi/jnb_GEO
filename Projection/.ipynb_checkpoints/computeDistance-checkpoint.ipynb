{
 "cells": [
  {
   "cell_type": "code",
   "execution_count": 16,
   "id": "3b104094-d1de-4d20-a0a1-6e46b418a55a",
   "metadata": {},
   "outputs": [
    {
     "data": {
      "text/plain": [
       "<Geographic 2D CRS: EPSG:4326>\n",
       "Name: WGS 84\n",
       "Axis Info [ellipsoidal]:\n",
       "- Lat[north]: Geodetic latitude (degree)\n",
       "- Lon[east]: Geodetic longitude (degree)\n",
       "Area of Use:\n",
       "- name: World\n",
       "- bounds: (-180.0, -90.0, 180.0, 90.0)\n",
       "Datum: World Geodetic System 1984\n",
       "- Ellipsoid: WGS 84\n",
       "- Prime Meridian: Greenwich"
      ]
     },
     "execution_count": 16,
     "metadata": {},
     "output_type": "execute_result"
    }
   ],
   "source": [
    "from shapely.geometry import Point\n",
    "import geopandas as gpd\n",
    "pnt1 = Point(80.99456, 7.86795)\n",
    "pnt2 = Point(80.97454, 7.872174)\n",
    "points_df = gpd.GeoDataFrame({'geometry': [pnt1, pnt2]}, crs='EPSG:4326')\n",
    "points_df.crs"
   ]
  },
  {
   "cell_type": "code",
   "execution_count": 17,
   "id": "87e41927-ce4e-4fb8-884d-6055650bb6a4",
   "metadata": {},
   "outputs": [
    {
     "data": {
      "text/plain": [
       "<Projected CRS: EPSG:5234>\n",
       "Name: Kandawala / Sri Lanka Grid\n",
       "Axis Info [cartesian]:\n",
       "- E[east]: Easting (metre)\n",
       "- N[north]: Northing (metre)\n",
       "Area of Use:\n",
       "- name: Sri Lanka - onshore\n",
       "- bounds: (79.64, 5.86, 81.95, 9.88)\n",
       "Coordinate Operation:\n",
       "- name: Sri Lanka Grid\n",
       "- method: Transverse Mercator\n",
       "Datum: Kandawala\n",
       "- Ellipsoid: Everest 1830 (1937 Adjustment)\n",
       "- Prime Meridian: Greenwich"
      ]
     },
     "execution_count": 17,
     "metadata": {},
     "output_type": "execute_result"
    }
   ],
   "source": [
    "prj_gdf = points_df.to_crs(epsg='5234') \n",
    "prj_gdf.crs"
   ]
  },
  {
   "cell_type": "code",
   "execution_count": 18,
   "id": "2ce97357-a633-4074-a679-27d5173573ad",
   "metadata": {},
   "outputs": [
    {
     "name": "stdout",
     "output_type": "stream",
     "text": [
      "epsg:5234\n",
      "epsg:5234\n"
     ]
    },
    {
     "name": "stderr",
     "output_type": "stream",
     "text": [
      "/home/sprk/devel/miniconda3/envs/geo310/lib/python3.9/site-packages/geopandas/array.py:1406: UserWarning: CRS not set for some of the concatenation inputs. Setting output's CRS as Kandawala / Sri Lanka Grid (the single non-null crs provided).\n",
      "  warnings.warn(\n"
     ]
    }
   ],
   "source": [
    "point1 = prj_gdf\n",
    "point2 = prj_gdf.shift()\n",
    "point1.distance(point2)\n",
    "print(point1.crs)\n",
    "print(point2.crs)"
   ]
  },
  {
   "cell_type": "code",
   "execution_count": 19,
   "id": "44c3d244-dede-41f3-a6bb-1b6ced338e4c",
   "metadata": {},
   "outputs": [
    {
     "ename": "NameError",
     "evalue": "name 'geopandas' is not defined",
     "output_type": "error",
     "traceback": [
      "\u001b[0;31m---------------------------------------------------------------------------\u001b[0m",
      "\u001b[0;31mNameError\u001b[0m                                 Traceback (most recent call last)",
      "Cell \u001b[0;32mIn[19], line 2\u001b[0m\n\u001b[1;32m      1\u001b[0m path_to_data \u001b[38;5;241m=\u001b[39m gpd\u001b[38;5;241m.\u001b[39mdatasets\u001b[38;5;241m.\u001b[39mget_path(\u001b[38;5;124m\"\u001b[39m\u001b[38;5;124mnybb\u001b[39m\u001b[38;5;124m\"\u001b[39m)\n\u001b[0;32m----> 2\u001b[0m gdf \u001b[38;5;241m=\u001b[39m \u001b[43mgeopandas\u001b[49m\u001b[38;5;241m.\u001b[39mread_file(path_to_data)\n\u001b[1;32m      3\u001b[0m gdfg\n",
      "\u001b[0;31mNameError\u001b[0m: name 'geopandas' is not defined"
     ]
    }
   ],
   "source": [
    "path_to_data = gpd.datasets.get_path(\"nybb\")\n",
    "gdf = geopandas.read_file(path_to_data)\n",
    "gdfg"
   ]
  }
 ],
 "metadata": {
  "kernelspec": {
   "display_name": "Python 3 (ipykernel)",
   "language": "python",
   "name": "python3"
  },
  "language_info": {
   "codemirror_mode": {
    "name": "ipython",
    "version": 3
   },
   "file_extension": ".py",
   "mimetype": "text/x-python",
   "name": "python",
   "nbconvert_exporter": "python",
   "pygments_lexer": "ipython3",
   "version": "3.9.16"
  }
 },
 "nbformat": 4,
 "nbformat_minor": 5
}
