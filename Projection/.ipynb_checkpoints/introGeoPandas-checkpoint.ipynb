{
 "cells": [
  {
   "cell_type": "markdown",
   "id": "206cd8fc-d1c2-49ca-98cc-1913877c0c24",
   "metadata": {},
   "source": [
    "# Introduction to GeoPandas"
   ]
  },
  {
   "cell_type": "code",
   "execution_count": 1,
   "id": "5c37cc26-0f38-45e0-a289-addcc8154232",
   "metadata": {},
   "outputs": [],
   "source": [
    "import geopandas as gpd\n",
    "#import descartes as dc\n",
    "#import matplotlib.pyplot as plt# Read world Countries\n",
    "\n"
   ]
  },
  {
   "cell_type": "code",
   "execution_count": null,
   "id": "4503c917-7ec7-41fb-b57b-f67e24654a38",
   "metadata": {},
   "outputs": [],
   "source": [
    "gpd."
   ]
  }
 ],
 "metadata": {
  "kernelspec": {
   "display_name": "Python 3 (ipykernel)",
   "language": "python",
   "name": "python3"
  },
  "language_info": {
   "codemirror_mode": {
    "name": "ipython",
    "version": 3
   },
   "file_extension": ".py",
   "mimetype": "text/x-python",
   "name": "python",
   "nbconvert_exporter": "python",
   "pygments_lexer": "ipython3",
   "version": "3.9.16"
  }
 },
 "nbformat": 4,
 "nbformat_minor": 5
}
