{
 "cells": [
  {
   "cell_type": "markdown",
   "id": "39e5b6db-4080-4c79-a751-a4b534d371b2",
   "metadata": {},
   "source": [
    "# Geographics vs. Projected CRS"
   ]
  },
  {
   "cell_type": "code",
   "execution_count": 1,
   "id": "7bc1ca63-6e22-45a2-a72a-87e2183ba24d",
   "metadata": {},
   "outputs": [],
   "source": [
    "%reset -sf\n",
    "from pandas import read_csv\n",
    "#import pandas as pd\n",
    "import geopandas as gpd"
   ]
  },
  {
   "cell_type": "markdown",
   "id": "f1802702-36e8-4f7a-b17b-e22d238a07a9",
   "metadata": {},
   "source": [
    "## Read the Gauss-Kr&uuml;ger coordinates from a csv file"
   ]
  },
  {
   "cell_type": "code",
   "execution_count": 2,
   "id": "a4b53dab-13ae-400c-b6f6-c65639fecb75",
   "metadata": {},
   "outputs": [
    {
     "name": "stdout",
     "output_type": "stream",
     "text": [
      "          GKN         GKE label\n",
      "0  4935589.07  6598142.48  Area\n",
      "1  4935574.86  6598135.76  Area\n",
      "2  4935581.15  6598185.93  Area\n",
      "3  4935586.20  6598224.33  Area\n",
      "4  4935605.44  6598367.04  Area\n",
      "5  4935617.30  6598365.38  Area\n",
      "6  4935618.52  6598365.21  Area\n",
      "7  4935596.11  6598195.02  Area\n"
     ]
    }
   ],
   "source": [
    "# MGI 1901 / Balkans zone 6 EPSG:8678\n",
    "coord_fn = 'GeoMaks2022-coords.csv'\n",
    "gk_pd = read_csv(coord_fn, skipinitialspace=True)\n",
    "gk_pd['label']='Area'\n",
    "print(gk_pd)"
   ]
  },
  {
   "cell_type": "markdown",
   "id": "80224002-6bf3-4550-bf32-7191c7dbd383",
   "metadata": {
    "tags": []
   },
   "source": [
    "[UTM Zone](https://mangomap.com/robertyoung/maps/69585/what-utm-zone-am-i-in-#)"
   ]
  },
  {
   "cell_type": "markdown",
   "id": "5d4a22e4-d2cd-4ebc-8984-faf419b306a3",
   "metadata": {},
   "source": [
    "## Create GeoPandas GeoDataFrame from Pandas Dataframe"
   ]
  },
  {
   "cell_type": "code",
   "execution_count": 3,
   "id": "5649d750-ff3f-416e-a7be-ce74d420e75d",
   "metadata": {},
   "outputs": [
    {
     "name": "stdout",
     "output_type": "stream",
     "text": [
      "          GKN         GKE label                         geometry\n",
      "0  4935589.07  6598142.48  Area  POINT (6598142.480 4935589.070)\n",
      "1  4935574.86  6598135.76  Area  POINT (6598135.760 4935574.860)\n",
      "2  4935581.15  6598185.93  Area  POINT (6598185.930 4935581.150)\n",
      "3  4935586.20  6598224.33  Area  POINT (6598224.330 4935586.200)\n",
      "4  4935605.44  6598367.04  Area  POINT (6598367.040 4935605.440)\n",
      "5  4935617.30  6598365.38  Area  POINT (6598365.380 4935617.300)\n",
      "6  4935618.52  6598365.21  Area  POINT (6598365.210 4935618.520)\n",
      "7  4935596.11  6598195.02  Area  POINT (6598195.020 4935596.110)\n",
      "None\n"
     ]
    },
    {
     "data": {
      "image/png": "[encoded data removed]",
      "text/plain": [
       "<Figure size 640x480 with 1 Axes>"
      ]
     },
     "metadata": {},
     "output_type": "display_data"
    }
   ],
   "source": [
    "gk_gdf = gpd.GeoDataFrame(\n",
    "    gk_pd, geometry=gpd.points_from_xy(gk_pd.GKE, gk_pd.GKN))\n",
    "\n",
    "gk_gdf.plot()\n",
    "print(gk_gdf)\n",
    "print(gk_gdf.crs) # None CRS assigned yet"
   ]
  },
  {
   "cell_type": "code",
   "execution_count": 4,
   "id": "d6506b94-38bf-41d3-ab2c-ad9439391e9a",
   "metadata": {},
   "outputs": [],
   "source": [
    "#gk_gdf.explore()"
   ]
  },
  {
   "cell_type": "markdown",
   "id": "404231da-92ae-4ce9-bcdf-d5e0c2e266fa",
   "metadata": {},
   "source": [
    "## Set GeoDataFrame to Projected CRS: EPSG:8678,  MGI 1901 / Balkans zone 6"
   ]
  },
  {
   "cell_type": "code",
   "execution_count": 5,
   "id": "b4b39323-1442-4d00-a970-4854add088c0",
   "metadata": {},
   "outputs": [
    {
     "data": {
      "text/plain": [
       "<Projected CRS: EPSG:8678>\n",
       "Name: MGI 1901 / Balkans zone 6\n",
       "Axis Info [cartesian]:\n",
       "- Y[east]: Easting (metre)\n",
       "- X[north]: Northing (metre)\n",
       "Area of Use:\n",
       "- name: Europe - former Yugoslavia onshore 16.5°E to 19.5°E\n",
       "- bounds: (16.5, 41.79, 19.51, 46.55)\n",
       "Coordinate Operation:\n",
       "- name: Balkans zone 6\n",
       "- method: Transverse Mercator\n",
       "Datum: MGI 1901\n",
       "- Ellipsoid: Bessel 1841\n",
       "- Prime Meridian: Greenwich"
      ]
     },
     "execution_count": 5,
     "metadata": {},
     "output_type": "execute_result"
    }
   ],
   "source": [
    "gk_gdf.crs = \"EPSG:8678\" \n",
    "gk_gdf.crs"
   ]
  },
  {
   "cell_type": "markdown",
   "id": "bb0201be-1d47-45a5-b99d-53bd2c8d70fb",
   "metadata": {},
   "source": [
    "## Parcel with id 13398 in Loznicko Polije has an area of 3083.2436 square metres"
   ]
  },
  {
   "cell_type": "code",
   "execution_count": 6,
   "id": "d6d24cef-b0f0-433e-95c9-c37b9f00b9f4",
   "metadata": {},
   "outputs": [
    {
     "name": "stdout",
     "output_type": "stream",
     "text": [
      "label\n",
      "Area    POLYGON ((6598135.760 4935574.860, 6598142.480...\n",
      "dtype: geometry\n",
      "label\n",
      "Area    3083.2436\n",
      "dtype: float64\n"
     ]
    },
    {
     "data": {
      "text/plain": [
       "<AxesSubplot: >"
      ]
     },
     "execution_count": 6,
     "metadata": {},
     "output_type": "execute_result"
    },
    {
     "data": {
      "image/png": "[encoded data removed]",
      "text/plain": [
       "<Figure size 640x480 with 1 Axes>"
      ]
     },
     "metadata": {},
     "output_type": "display_data"
    }
   ],
   "source": [
    "res = gk_gdf.dissolve('label').convex_hull\n",
    "res.to_wkt()\n",
    "print(res)\n",
    "print(res.area)\n",
    "res.plot()"
   ]
  },
  {
   "cell_type": "code",
   "execution_count": 7,
   "id": "6d1ec550-2e7a-4a1e-abd5-3b43e0e3baea",
   "metadata": {},
   "outputs": [
    {
     "data": {
      "text/html": [
       "<div style=\"width:100%;\"><div style=\"position:relative;width:100%;height:0;padding-bottom:60%;\"><span style=\"color:#565656\">Make this Notebook Trusted to load map: File -> Trust Notebook</span><iframe srcdoc=\"&lt;!DOCTYPE html&gt;\n",
       "&lt;html&gt;\n",
       "&lt;head&gt;\n",
       "    \n",
       "    &lt;meta http-equiv=&quot;content-type&quot; content=&quot;text/html; charset=UTF-8&quot; /&gt;\n",
       "    \n",
       "        &lt;script&gt;\n",
       "            L_NO_TOUCH = false;\n",
       "            L_DISABLE_3D = false;\n",
       "        &lt;/script&gt;\n",
       "    \n",
       "    &lt;style&gt;html, body {width: 100%;height: 100%;margin: 0;padding: 0;}&lt;/style&gt;\n",
       "    &lt;style&gt;#map {position:absolute;top:0;bottom:0;right:0;left:0;}&lt;/style&gt;\n",
       "    &lt;script src=&quot;https://cdn.jsdelivr.net/npm/leaflet@1.9.3/dist/leaflet.js&quot;&gt;&lt;/script&gt;\n",
       "    &lt;script src=&quot;https://code.jquery.com/jquery-1.12.4.min.js&quot;&gt;&lt;/script&gt;\n",
       "    &lt;script src=&quot;https://cdn.jsdelivr.net/npm/bootstrap@5.2.2/dist/js/bootstrap.bundle.min.js&quot;&gt;&lt;/script&gt;\n",
       "    &lt;script src=&quot;https://cdnjs.cloudflare.com/ajax/libs/Leaflet.awesome-markers/2.0.2/leaflet.awesome-markers.js&quot;&gt;&lt;/script&gt;\n",
       "    &lt;link rel=&quot;stylesheet&quot; href=&quot;https://cdn.jsdelivr.net/npm/leaflet@1.9.3/dist/leaflet.css&quot;/&gt;\n",
       "    &lt;link rel=&quot;stylesheet&quot; href=&quot;https://cdn.jsdelivr.net/npm/bootstrap@5.2.2/dist/css/bootstrap.min.css&quot;/&gt;\n",
       "    &lt;link rel=&quot;stylesheet&quot; href=&quot;https://netdna.bootstrapcdn.com/bootstrap/3.0.0/css/bootstrap.min.css&quot;/&gt;\n",
       "    &lt;link rel=&quot;stylesheet&quot; href=&quot;https://cdn.jsdelivr.net/npm/@fortawesome/fontawesome-free@6.2.0/css/all.min.css&quot;/&gt;\n",
       "    &lt;link rel=&quot;stylesheet&quot; href=&quot;https://cdnjs.cloudflare.com/ajax/libs/Leaflet.awesome-markers/2.0.2/leaflet.awesome-markers.css&quot;/&gt;\n",
       "    &lt;link rel=&quot;stylesheet&quot; href=&quot;https://cdn.jsdelivr.net/gh/python-visualization/folium/folium/templates/leaflet.awesome.rotate.min.css&quot;/&gt;\n",
       "    \n",
       "            &lt;meta name=&quot;viewport&quot; content=&quot;width=device-width,\n",
       "                initial-scale=1.0, maximum-scale=1.0, user-scalable=no&quot; /&gt;\n",
       "            &lt;style&gt;\n",
       "                #map_5125a26c406f54fc12c7a6d15041aba2 {\n",
       "                    position: relative;\n",
       "                    width: 100.0%;\n",
       "                    height: 100.0%;\n",
       "                    left: 0.0%;\n",
       "                    top: 0.0%;\n",
       "                }\n",
       "                .leaflet-container { font-size: 1rem; }\n",
       "            &lt;/style&gt;\n",
       "        \n",
       "&lt;/head&gt;\n",
       "&lt;body&gt;\n",
       "    \n",
       "    \n",
       "            &lt;div class=&quot;folium-map&quot; id=&quot;map_5125a26c406f54fc12c7a6d15041aba2&quot; &gt;&lt;/div&gt;\n",
       "        \n",
       "&lt;/body&gt;\n",
       "&lt;script&gt;\n",
       "    \n",
       "    \n",
       "            var map_5125a26c406f54fc12c7a6d15041aba2 = L.map(\n",
       "                &quot;map_5125a26c406f54fc12c7a6d15041aba2&quot;,\n",
       "                {\n",
       "                    center: [44.55820989847295, 19.231667468805433],\n",
       "                    crs: L.CRS.EPSG3857,\n",
       "                    zoom: 10,\n",
       "                    zoomControl: true,\n",
       "                    preferCanvas: false,\n",
       "                }\n",
       "            );\n",
       "            L.control.scale().addTo(map_5125a26c406f54fc12c7a6d15041aba2);\n",
       "\n",
       "            \n",
       "\n",
       "        \n",
       "    \n",
       "            var tile_layer_e2f6c17e93ecf7ef53d62bbf09cf5f1e = L.tileLayer(\n",
       "                &quot;https://{s}.tile.openstreetmap.org/{z}/{x}/{y}.png&quot;,\n",
       "                {&quot;attribution&quot;: &quot;Data by \\u0026copy; \\u003ca target=\\&quot;_blank\\&quot; href=\\&quot;http://openstreetmap.org\\&quot;\\u003eOpenStreetMap\\u003c/a\\u003e, under \\u003ca target=\\&quot;_blank\\&quot; href=\\&quot;http://www.openstreetmap.org/copyright\\&quot;\\u003eODbL\\u003c/a\\u003e.&quot;, &quot;detectRetina&quot;: false, &quot;maxNativeZoom&quot;: 18, &quot;maxZoom&quot;: 18, &quot;minZoom&quot;: 0, &quot;noWrap&quot;: false, &quot;opacity&quot;: 1, &quot;subdomains&quot;: &quot;abc&quot;, &quot;tms&quot;: false}\n",
       "            ).addTo(map_5125a26c406f54fc12c7a6d15041aba2);\n",
       "        \n",
       "    \n",
       "            map_5125a26c406f54fc12c7a6d15041aba2.fitBounds(\n",
       "                [[44.5580290488072, 19.23020927025405], [44.5583907481387, 19.233125667356813]],\n",
       "                {}\n",
       "            );\n",
       "        \n",
       "    \n",
       "        function geo_json_c8ceabebd1701debd5c80336ae7c9e39_styler(feature) {\n",
       "            switch(feature.id) {\n",
       "                default:\n",
       "                    return {&quot;fillOpacity&quot;: 0.5, &quot;weight&quot;: 2};\n",
       "            }\n",
       "        }\n",
       "        function geo_json_c8ceabebd1701debd5c80336ae7c9e39_highlighter(feature) {\n",
       "            switch(feature.id) {\n",
       "                default:\n",
       "                    return {&quot;fillOpacity&quot;: 0.75};\n",
       "            }\n",
       "        }\n",
       "        function geo_json_c8ceabebd1701debd5c80336ae7c9e39_pointToLayer(feature, latlng) {\n",
       "            var opts = {&quot;bubblingMouseEvents&quot;: true, &quot;color&quot;: &quot;#3388ff&quot;, &quot;dashArray&quot;: null, &quot;dashOffset&quot;: null, &quot;fill&quot;: true, &quot;fillColor&quot;: &quot;#3388ff&quot;, &quot;fillOpacity&quot;: 0.2, &quot;fillRule&quot;: &quot;evenodd&quot;, &quot;lineCap&quot;: &quot;round&quot;, &quot;lineJoin&quot;: &quot;round&quot;, &quot;opacity&quot;: 1.0, &quot;radius&quot;: 2, &quot;stroke&quot;: true, &quot;weight&quot;: 3};\n",
       "            \n",
       "            let style = geo_json_c8ceabebd1701debd5c80336ae7c9e39_styler(feature)\n",
       "            Object.assign(opts, style)\n",
       "            \n",
       "            return new L.CircleMarker(latlng, opts)\n",
       "        }\n",
       "\n",
       "        function geo_json_c8ceabebd1701debd5c80336ae7c9e39_onEachFeature(feature, layer) {\n",
       "            layer.on({\n",
       "                mouseout: function(e) {\n",
       "                    if(typeof e.target.setStyle === &quot;function&quot;){\n",
       "                        geo_json_c8ceabebd1701debd5c80336ae7c9e39.resetStyle(e.target);\n",
       "                    }\n",
       "                },\n",
       "                mouseover: function(e) {\n",
       "                    if(typeof e.target.setStyle === &quot;function&quot;){\n",
       "                        const highlightStyle = geo_json_c8ceabebd1701debd5c80336ae7c9e39_highlighter(e.target.feature)\n",
       "                        e.target.setStyle(highlightStyle);\n",
       "                    }\n",
       "                },\n",
       "            });\n",
       "        };\n",
       "        var geo_json_c8ceabebd1701debd5c80336ae7c9e39 = L.geoJson(null, {\n",
       "                onEachFeature: geo_json_c8ceabebd1701debd5c80336ae7c9e39_onEachFeature,\n",
       "            \n",
       "                style: geo_json_c8ceabebd1701debd5c80336ae7c9e39_styler,\n",
       "                pointToLayer: geo_json_c8ceabebd1701debd5c80336ae7c9e39_pointToLayer\n",
       "        });\n",
       "\n",
       "        function geo_json_c8ceabebd1701debd5c80336ae7c9e39_add (data) {\n",
       "            geo_json_c8ceabebd1701debd5c80336ae7c9e39\n",
       "                .addData(data)\n",
       "                .addTo(map_5125a26c406f54fc12c7a6d15041aba2);\n",
       "        }\n",
       "            geo_json_c8ceabebd1701debd5c80336ae7c9e39_add({&quot;bbox&quot;: [19.23020927025405, 44.5580290488072, 19.233125667356813, 44.5583907481387], &quot;features&quot;: [{&quot;bbox&quot;: [19.23020927025405, 44.5580290488072, 19.233125667356813, 44.5583907481387], &quot;geometry&quot;: {&quot;coordinates&quot;: [[[19.23020927025405, 44.5580290488072], [19.230296534011952, 44.55815599619763], [19.230959070671865, 44.55821221520124], [19.233105123341, 44.5583907481387], [19.233125667356813, 44.558272808616124], [19.231326048160447, 44.55811907060506], [19.230841837373465, 44.558078841474924], [19.23020927025405, 44.5580290488072]]], &quot;type&quot;: &quot;Polygon&quot;}, &quot;id&quot;: &quot;Area&quot;, &quot;properties&quot;: {}, &quot;type&quot;: &quot;Feature&quot;}], &quot;type&quot;: &quot;FeatureCollection&quot;});\n",
       "\n",
       "        \n",
       "&lt;/script&gt;\n",
       "&lt;/html&gt;\" style=\"position:absolute;width:100%;height:100%;left:0;top:0;border:none !important;\" allowfullscreen webkitallowfullscreen mozallowfullscreen></iframe></div></div>"
      ],
      "text/plain": [
       "<folium.folium.Map at 0x7fde28cea400>"
      ]
     },
     "execution_count": 7,
     "metadata": {},
     "output_type": "execute_result"
    }
   ],
   "source": [
    "res.explore()"
   ]
  },
  {
   "cell_type": "markdown",
   "id": "8817a757-7111-4368-b1fd-4cf8a0de3032",
   "metadata": {},
   "source": [
    "## Set GeoDataFrame to Geographic 2D CRS: EPSG:4326, WGS 84"
   ]
  },
  {
   "cell_type": "code",
   "execution_count": 8,
   "id": "4b589862-83cf-4b47-a937-d18f56477178",
   "metadata": {},
   "outputs": [
    {
     "name": "stdout",
     "output_type": "stream",
     "text": [
      "          GKN         GKE label                   geometry\n",
      "0  4935589.07  6598142.48  Area  POINT (19.23030 44.55816)\n",
      "1  4935574.86  6598135.76  Area  POINT (19.23021 44.55803)\n",
      "2  4935581.15  6598185.93  Area  POINT (19.23084 44.55808)\n",
      "3  4935586.20  6598224.33  Area  POINT (19.23133 44.55812)\n",
      "4  4935605.44  6598367.04  Area  POINT (19.23313 44.55827)\n",
      "5  4935617.30  6598365.38  Area  POINT (19.23311 44.55838)\n",
      "6  4935618.52  6598365.21  Area  POINT (19.23311 44.55839)\n",
      "7  4935596.11  6598195.02  Area  POINT (19.23096 44.55821)\n"
     ]
    },
    {
     "data": {
      "text/plain": [
       "<Geographic 2D CRS: EPSG:4326>\n",
       "Name: WGS 84\n",
       "Axis Info [ellipsoidal]:\n",
       "- Lat[north]: Geodetic latitude (degree)\n",
       "- Lon[east]: Geodetic longitude (degree)\n",
       "Area of Use:\n",
       "- name: World\n",
       "- bounds: (-180.0, -90.0, 180.0, 90.0)\n",
       "Datum: World Geodetic System 1984\n",
       "- Ellipsoid: WGS 84\n",
       "- Prime Meridian: Greenwich"
      ]
     },
     "execution_count": 8,
     "metadata": {},
     "output_type": "execute_result"
    }
   ],
   "source": [
    "geo_gdf = gk_gdf.to_crs(epsg='4326') \n",
    "#print(geo_gdf.geometry.x)\n",
    "#print(geo_gdf.geometry.y)\n",
    "print(geo_gdf)\n",
    "geo_gdf.crs"
   ]
  },
  {
   "cell_type": "code",
   "execution_count": 9,
   "id": "36396c85-7b62-4747-b7d8-6695cff0f358",
   "metadata": {},
   "outputs": [],
   "source": [
    "#geo_gdf.explore()"
   ]
  },
  {
   "cell_type": "markdown",
   "id": "7741a343-76d1-4236-9c94-c2abbb068c50",
   "metadata": {},
   "source": [
    "## Obtain the ESRI WKT\n",
    "[ESRI WKT](https://epsg.io) for EPSG 8678area"
   ]
  },
  {
   "cell_type": "code",
   "execution_count": 10,
   "id": "1e7cf8e3-179b-431d-bb6a-94a187b0fa84",
   "metadata": {},
   "outputs": [],
   "source": [
    "ESRI_WKT = 'GEOGCS[\"GCS_WGS_1984\",DATUM[\"D_WGS_1984\",SPHEROID[\"WGS_1984\",6378137.0,298.257223563]],PRIMEM[\"Greenwich\",0.0],UNIT[\"Degree\",0.0174532925199433]]'"
   ]
  },
  {
   "cell_type": "markdown",
   "id": "427b48b6-3bb6-49f2-a6b5-8c2db28c73e6",
   "metadata": {},
   "source": [
    "## Save the file as an ESRI Shapefile\n",
    "\n",
    "[shapefile_extensions](https://webhelp.esri.com)"
   ]
  },
  {
   "cell_type": "code",
   "execution_count": 11,
   "id": "340466be-11c5-4799-8b35-7c6bf8a5c3f4",
   "metadata": {},
   "outputs": [],
   "source": [
    "#gk_gdf.to_file(filename = 'gk.shp', driver = 'ESRI Shapefile')#, crs_wkt = ESRI_WKT)\n",
    "geo_gdf.to_file(filename = 'geo.shp', driver = 'ESRI Shapefile')#, crs_wkt = ESRI_WKT)"
   ]
  }
 ],
 "metadata": {
  "kernelspec": {
   "display_name": "Python 3 (ipykernel)",
   "language": "python",
   "name": "python3"
  },
  "language_info": {
   "codemirror_mode": {
    "name": "ipython",
    "version": 3
   },
   "file_extension": ".py",
   "mimetype": "text/x-python",
   "name": "python",
   "nbconvert_exporter": "python",
   "pygments_lexer": "ipython3",
   "version": "3.9.16"
  }
 },
 "nbformat": 4,
 "nbformat_minor": 5
}
