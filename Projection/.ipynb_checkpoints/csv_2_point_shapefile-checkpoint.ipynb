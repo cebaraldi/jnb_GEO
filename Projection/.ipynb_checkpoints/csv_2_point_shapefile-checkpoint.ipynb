{
 "cells": [
  {
   "cell_type": "markdown",
   "id": "39e5b6db-4080-4c79-a751-a4b534d371b2",
   "metadata": {},
   "source": [
    "# Geographics vs. Projected CRS"
   ]
  },
  {
   "cell_type": "code",
   "execution_count": 50,
   "id": "7bc1ca63-6e22-45a2-a72a-87e2183ba24d",
   "metadata": {},
   "outputs": [],
   "source": [
    "%reset -sf\n",
    "#from pandas import read_csv\n",
    "import pandas as pd\n",
    "import geopandas #as gpd"
   ]
  },
  {
   "cell_type": "markdown",
   "id": "f1802702-36e8-4f7a-b17b-e22d238a07a9",
   "metadata": {},
   "source": [
    "# Read the Gauss-Kr&uuml;ger coordinates from a csv file"
   ]
  },
  {
   "cell_type": "code",
   "execution_count": null,
   "id": "a4b53dab-13ae-400c-b6f6-c65639fecb75",
   "metadata": {},
   "outputs": [
    {
     "name": "stdout",
     "output_type": "stream",
     "text": [
      "          GKN         GKE\n",
      "0  4935589.07  6598142.48\n",
      "1  4935574.86  6598135.76\n",
      "2  4935581.15  6598185.93\n",
      "3  4935586.20  6598224.33\n",
      "4  4935605.44  6598367.04\n",
      "5  4935617.30  6598365.38\n",
      "6  4935618.52  6598365.21\n",
      "7  4935596.11  6598195.02\n"
     ]
    }
   ],
   "source": [
    "# MGI 1901 / Balkans zone 6 EPSG:8678\n",
    "coord_fn = 'GeoMaks2022-coords.csv'\n",
    "gkp_pd = pd.read_csv(coord_fn, skipinitialspace=True)\n",
    "print(gkp_pd)"
   ]
  },
  {
   "cell_type": "markdown",
   "id": "80224002-6bf3-4550-bf32-7191c7dbd383",
   "metadata": {
    "tags": []
   },
   "source": [
    "# Read the latitude and longitude Data of ZB2\n",
    "[UTM Zone](https://mangomap.com/robertyoung/maps/69585/what-utm-zone-am-i-in-#)"
   ]
  },
  {
   "cell_type": "code",
   "execution_count": 52,
   "id": "75eacdac-f3f3-4d31-80eb-0f1211820037",
   "metadata": {},
   "outputs": [
    {
     "name": "stdout",
     "output_type": "stream",
     "text": [
      "   corner        lat        lon\n",
      "0       1  44.558288  19.230437\n",
      "1       2  44.558295  19.230612\n",
      "2       3  44.558200  19.230443\n",
      "3       4  44.558207  19.230618\n"
     ]
    }
   ],
   "source": [
    "# zlatiborska 2 loznica: 44.561365, 19.211011\n",
    "zb2_fn = 'Zlatiborska_2.csv'\n",
    "zb2_pd = pd.read_csv(zb2_fn, skipinitialspace=True)\n",
    "print(zb2_pd)"
   ]
  },
  {
   "cell_type": "markdown",
   "id": "5d4a22e4-d2cd-4ebc-8984-faf419b306a3",
   "metadata": {},
   "source": [
    "# Create GeoPandas GeoDataFrame from Pandas Dataframe"
   ]
  },
  {
   "cell_type": "code",
   "execution_count": 53,
   "id": "5649d750-ff3f-416e-a7be-ce74d420e75d",
   "metadata": {},
   "outputs": [
    {
     "name": "stdout",
     "output_type": "stream",
     "text": [
      "   corner        lat        lon                   geometry\n",
      "0       1  44.558288  19.230437  POINT (44.55829 19.23044)\n",
      "1       2  44.558295  19.230612  POINT (44.55830 19.23061)\n",
      "2       3  44.558200  19.230443  POINT (44.55820 19.23044)\n",
      "3       4  44.558207  19.230618  POINT (44.55821 19.23062)\n",
      "None\n"
     ]
    },
    {
     "data": {
      "image/png": "[encoded data removed]",
      "text/plain": [
       "<Figure size 640x480 with 1 Axes>"
      ]
     },
     "metadata": {},
     "output_type": "display_data"
    }
   ],
   "source": [
    "zb2_gdf = geopandas.GeoDataFrame(\n",
    "    zb2_pd, geometry=geopandas.points_from_xy(zb2_pd.lat, zb2_pd.lon))\n",
    "#    zb2_pd, geometry=geopandas.points_from_xy(zb2_pd.lon, zb2_pd.lat))\n",
    "zb2_gdf.plot()\n",
    "print(zb2_gdf)\n",
    "print(zb2_gdf.crs)"
   ]
  },
  {
   "cell_type": "markdown",
   "id": "8817a757-7111-4368-b1fd-4cf8a0de3032",
   "metadata": {},
   "source": [
    "## Set to Geographic 2D CRS: EPSG:4326, WGS 84"
   ]
  },
  {
   "cell_type": "code",
   "execution_count": 54,
   "id": "b4b39323-1442-4d00-a970-4854add088c0",
   "metadata": {},
   "outputs": [
    {
     "name": "stdout",
     "output_type": "stream",
     "text": [
      "0    44.558288\n",
      "1    44.558295\n",
      "2    44.558200\n",
      "3    44.558207\n",
      "dtype: float64\n",
      "0    19.230437\n",
      "1    19.230612\n",
      "2    19.230443\n",
      "3    19.230618\n",
      "dtype: float64\n"
     ]
    },
    {
     "data": {
      "text/plain": [
       "<Geographic 2D CRS: EPSG:4326>\n",
       "Name: WGS 84\n",
       "Axis Info [ellipsoidal]:\n",
       "- Lat[north]: Geodetic latitude (degree)\n",
       "- Lon[east]: Geodetic longitude (degree)\n",
       "Area of Use:\n",
       "- name: World\n",
       "- bounds: (-180.0, -90.0, 180.0, 90.0)\n",
       "Datum: World Geodetic System 1984\n",
       "- Ellipsoid: WGS 84\n",
       "- Prime Meridian: Greenwich"
      ]
     },
     "execution_count": 54,
     "metadata": {},
     "output_type": "execute_result"
    }
   ],
   "source": [
    "\n",
    "zb2_gdf.crs = \"EPSG:4326\" \n",
    "print(zb2_gdf.geometry.x)\n",
    "print(zb2_gdf.geometry.y)\n",
    "zb2_gdf.crs"
   ]
  },
  {
   "cell_type": "markdown",
   "id": "404231da-92ae-4ce9-bcdf-d5e0c2e266fa",
   "metadata": {},
   "source": [
    "## Projected CRS: EPSG:8678,  MGI 1901 / Balkans zone 6"
   ]
  },
  {
   "cell_type": "code",
   "execution_count": 63,
   "id": "4b589862-83cf-4b47-a937-d18f56477178",
   "metadata": {},
   "outputs": [
    {
     "name": "stdout",
     "output_type": "stream",
     "text": [
      "0    9.373922e+06\n",
      "1    9.373920e+06\n",
      "2    9.373912e+06\n",
      "3    9.373909e+06\n",
      "dtype: float64\n",
      "0    2.357641e+06\n",
      "1    2.357662e+06\n",
      "2    2.357640e+06\n",
      "3    2.357661e+06\n",
      "dtype: float64\n",
      "   corner        lat        lon                         geometry\n",
      "0       1  44.558288  19.230437  POINT (9373922.287 2357641.168)\n",
      "1       2  44.558295  19.230612  POINT (9373919.611 2357662.395)\n",
      "2       3  44.558200  19.230443  POINT (9373912.091 2357640.230)\n",
      "3       4  44.558207  19.230618  POINT (9373909.415 2357661.458)\n"
     ]
    },
    {
     "data": {
      "text/plain": [
       "<Projected CRS: EPSG:8678>\n",
       "Name: MGI 1901 / Balkans zone 6\n",
       "Axis Info [cartesian]:\n",
       "- Y[east]: Easting (metre)\n",
       "- X[north]: Northing (metre)\n",
       "Area of Use:\n",
       "- name: Europe - former Yugoslavia onshore 16.5°E to 19.5°E\n",
       "- bounds: (16.5, 41.79, 19.51, 46.55)\n",
       "Coordinate Operation:\n",
       "- name: Balkans zone 6\n",
       "- method: Transverse Mercator\n",
       "Datum: MGI 1901\n",
       "- Ellipsoid: Bessel 1841\n",
       "- Prime Meridian: Greenwich"
      ]
     },
     "execution_count": 63,
     "metadata": {},
     "output_type": "execute_result"
    }
   ],
   "source": [
    "gkp = zb2_gdf.to_crs(epsg='8678') \n",
    "print(gkp.geometry.x)\n",
    "print(gkp.geometry.y)\n",
    "print(gkp)\n",
    "gkp.crs"
   ]
  },
  {
   "cell_type": "markdown",
   "id": "7741a343-76d1-4236-9c94-c2abbb068c50",
   "metadata": {},
   "source": [
    "# Obtain the ESRI WKT\n",
    "[ESRI WKT](https://epsg.io) for EPSG 8678area"
   ]
  },
  {
   "cell_type": "code",
   "execution_count": 56,
   "id": "1e7cf8e3-179b-431d-bb6a-94a187b0fa84",
   "metadata": {},
   "outputs": [],
   "source": [
    "ESRI_WKT = 'GEOGCS[\"GCS_WGS_1984\",DATUM[\"D_WGS_1984\",SPHEROID[\"WGS_1984\",6378137.0,298.257223563]],PRIMEM[\"Greenwich\",0.0],UNIT[\"Degree\",0.0174532925199433]]'"
   ]
  },
  {
   "cell_type": "markdown",
   "id": "427b48b6-3bb6-49f2-a6b5-8c2db28c73e6",
   "metadata": {},
   "source": [
    "# Save the file as an ESRI Shapefile"
   ]
  },
  {
   "cell_type": "code",
   "execution_count": 57,
   "id": "340466be-11c5-4799-8b35-7c6bf8a5c3f4",
   "metadata": {},
   "outputs": [],
   "source": [
    "#from shapely.geometry import Point\n",
    "#zb2_gdf = geopandas.GeoDataFrame(zb2_gdf.to_dict(), crs=8678)\n",
    "#zb2_gdf.crs  \n",
    "#print(zb2_gdf)\n",
    "#zb2_epsg = zb2_gdf.to_crs(3857)\n",
    "#print(ESRI_WKT)\n",
    "zb2_gdf.to_file(filename = 'zb2.shp', driver = 'ESRI Shapefile') #, crs_wkt = ESRI_WKT)"
   ]
  },
  {
   "cell_type": "raw",
   "id": "7bd740f1-17a4-4bc8-a896-122e6713d8f1",
   "metadata": {},
   "source": [
    "https://geopandas.org/en/stable/gallery/create_geopandas_from_pandas.html\n",
    "[](https://proj.org/faq.html#what-is-the-best-format-for-describing-coordinate-reference-systems)\n",
    "\n",
    "I'm working with datasets where latitudes and longitudes are sometimes mislabeled and I need to flip the longitudes and the latitudes. The best solution I could come up with is to extract the x an y coordinates using df.geometry.x and df.geometry.y, create a new geometry column, and reconstruct the GeoDataFrame using the new geometry column. Or in code form:\n",
    "\n",
    "import geopandas\n",
    "from shapely.geometry import Point\n",
    "\n",
    "gdf['coordinates']  = list(zip(gdf.geometry.y, gdf.geometry.x))\n",
    "gdf['coordinates'] = gdf['coordinates'].apply(Point)\n",
    "gdf= gpd.GeoDataFrame(point_data, geometry='coordinates', crs = 4326)\n",
    "\n",
    "\n",
    "A1\n",
    "You can create the geometry column directly:\n",
    "\n",
    "df['geometry'] = df.apply(lambda row: Point(row['y'], row['x']), axis=1)\n",
    "df = gpd.GeoDataFrame(df, crs=4326)\n",
    "\n",
    "\n",
    "A2\n",
    "It works for Point and Polygon either:\n",
    "gpd.GeoSeries(gdf['coordinates']).map(lambda polygon: shapely.ops.transform(lambda x, y: (y, x), polygon))"
   ]
  }
 ],
 "metadata": {
  "kernelspec": {
   "display_name": "Python 3 (ipykernel)",
   "language": "python",
   "name": "python3"
  },
  "language_info": {
   "codemirror_mode": {
    "name": "ipython",
    "version": 3
   },
   "file_extension": ".py",
   "mimetype": "text/x-python",
   "name": "python",
   "nbconvert_exporter": "python",
   "pygments_lexer": "ipython3",
   "version": "3.9.16"
  }
 },
 "nbformat": 4,
 "nbformat_minor": 5
}
