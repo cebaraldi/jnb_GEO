{
 "cells": [
  {
   "cell_type": "markdown",
   "id": "206cd8fc-d1c2-49ca-98cc-1913877c0c24",
   "metadata": {},
   "source": [
    "# Gauss-Kr&uuml;ger vs. UTM-Projection"
   ]
  },
  {
   "cell_type": "code",
   "execution_count": 1,
   "id": "5c37cc26-0f38-45e0-a289-addcc8154232",
   "metadata": {},
   "outputs": [
    {
     "ename": "ModuleNotFoundError",
     "evalue": "No module named 'geopandas'",
     "output_type": "error",
     "traceback": [
      "\u001b[0;31m---------------------------------------------------------------------------\u001b[0m",
      "\u001b[0;31mModuleNotFoundError\u001b[0m                       Traceback (most recent call last)",
      "\u001b[0;32m/tmp/ipykernel_13664/3841419929.py\u001b[0m in \u001b[0;36m<module>\u001b[0;34m\u001b[0m\n\u001b[0;32m----> 1\u001b[0;31m \u001b[0;32mimport\u001b[0m \u001b[0mgeopandas\u001b[0m \u001b[0;32mas\u001b[0m \u001b[0mgpd\u001b[0m\u001b[0;34m\u001b[0m\u001b[0;34m\u001b[0m\u001b[0m\n\u001b[0m",
      "\u001b[0;31mModuleNotFoundError\u001b[0m: No module named 'geopandas'"
     ]
    }
   ],
   "source": [
    "import geopandas as gpd\n",
    "import matplotlib.pyplot as plt# Read world Countries\n",
    "\n",
    "world = gpd.read_file(\n",
    "gpd.datasets.get_path(“naturalearth_lowres”)\n",
    ")# Read world cities\n",
    "cities = gpd.read_file(\n",
    "gpd.datasets.get_path(“naturalearth_cities”)\n",
    ")# Read Graticules\n",
    "graticules = gpd.read_file(\n",
    "“ne_110m_graticules_10/ne_110m_graticules_10.shp”\n",
    ")"
   ]
  },
  {
   "cell_type": "code",
   "execution_count": null,
   "id": "527bcb52-a163-49bb-9e91-cbe767aba5c6",
   "metadata": {},
   "outputs": [],
   "source": [
    "#'GeoMaks2022-coords.csv'"
   ]
  }
 ],
 "metadata": {
  "kernelspec": {
   "display_name": "Python 3 (ipykernel)",
   "language": "python",
   "name": "python3"
  },
  "language_info": {
   "codemirror_mode": {
    "name": "ipython",
    "version": 3
   },
   "file_extension": ".py",
   "mimetype": "text/x-python",
   "name": "python",
   "nbconvert_exporter": "python",
   "pygments_lexer": "ipython3",
   "version": "3.10.8"
  }
 },
 "nbformat": 4,
 "nbformat_minor": 5
}
